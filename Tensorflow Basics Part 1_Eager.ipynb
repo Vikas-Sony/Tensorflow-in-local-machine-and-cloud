{
 "cells": [
  {
   "cell_type": "code",
   "execution_count": 2,
   "metadata": {},
   "outputs": [
    {
     "data": {
      "text/plain": [
       "'1.13.1'"
      ]
     },
     "execution_count": 2,
     "metadata": {},
     "output_type": "execute_result"
    }
   ],
   "source": [
    "import tensorflow as tf\n",
    "tf.__version__"
   ]
  },
  {
   "cell_type": "markdown",
   "metadata": {},
   "source": [
    "# Eager Execution\n"
   ]
  },
  {
   "cell_type": "code",
   "execution_count": 3,
   "metadata": {},
   "outputs": [],
   "source": [
    "tf.enable_eager_execution() "
   ]
  },
  {
   "cell_type": "markdown",
   "metadata": {},
   "source": [
    "This will allow us to view our outputs immediately."
   ]
  },
  {
   "cell_type": "markdown",
   "metadata": {},
   "source": [
    "# Adding two tensors"
   ]
  },
  {
   "cell_type": "code",
   "execution_count": 5,
   "metadata": {},
   "outputs": [
    {
     "data": {
      "text/plain": [
       "<tf.Tensor: id=5, shape=(3,), dtype=int32, numpy=array([ 6,  6, 12])>"
      ]
     },
     "execution_count": 5,
     "metadata": {},
     "output_type": "execute_result"
    }
   ],
   "source": [
    "a = tf.constant(value = [4, 3, 7], dtype = tf.int32)\n",
    "b = tf.constant(value = [2, 3, 5], dtype = tf.int32)\n",
    "\n",
    "c = tf.add(x = a, y= b)\n",
    "c"
   ]
  },
  {
   "cell_type": "markdown",
   "metadata": {},
   "source": [
    "# Overloading operators"
   ]
  },
  {
   "cell_type": "code",
   "execution_count": 6,
   "metadata": {},
   "outputs": [
    {
     "data": {
      "text/plain": [
       "<tf.Tensor: id=7, shape=(3,), dtype=int32, numpy=array([ 6,  6, 12])>"
      ]
     },
     "execution_count": 6,
     "metadata": {},
     "output_type": "execute_result"
    }
   ],
   "source": [
    "c = a + b  #equivalent to tf.add(x,y)\n",
    "c"
   ]
  },
  {
   "cell_type": "markdown",
   "metadata": {},
   "source": [
    "# Numpy"
   ]
  },
  {
   "cell_type": "code",
   "execution_count": 7,
   "metadata": {},
   "outputs": [
    {
     "name": "stdout",
     "output_type": "stream",
     "text": [
      "Type: <class 'tensorflow.python.framework.ops.EagerTensor'>, Value: [6 8]\n",
      "Type: <class 'tensorflow.python.framework.ops.EagerTensor'>, Value: [6 8]\n",
      "Type: <class 'tensorflow.python.framework.ops.EagerTensor'>, Value: [6 8]\n"
     ]
    }
   ],
   "source": [
    "import numpy as np\n",
    "\n",
    "a_py = [2,3] #native python list\n",
    "b_py = [4,5] #native python list\n",
    "\n",
    "a_np = np.array(object = [2,3]) #numpy array\n",
    "b_np = np.array(object = [4,5]) #numpy array\n",
    "\n",
    "a_tf = tf.constant(value = [2,3], dtype = tf.int32) #tensorflow tensor\n",
    "b_tf = tf.constant(value = [4,5], dtype = tf.int32) # tensotflow tensor\n",
    "\n",
    "for result in [tf.add(x= a_py, y = b_py), tf.add(x = a_np, y = b_np), tf.add(x = a_tf, y = b_tf)]:\n",
    "    print(\"Type: {}, Value: {}\".format(type(result), result))"
   ]
  },
  {
   "cell_type": "markdown",
   "metadata": {},
   "source": [
    "Converting numpy array into tensors"
   ]
  },
  {
   "cell_type": "code",
   "execution_count": 8,
   "metadata": {},
   "outputs": [
    {
     "data": {
      "text/plain": [
       "array([2, 3])"
      ]
     },
     "execution_count": 8,
     "metadata": {},
     "output_type": "execute_result"
    }
   ],
   "source": [
    "a_tf.numpy()"
   ]
  },
  {
   "cell_type": "markdown",
   "metadata": {},
   "source": [
    "# Linear Regression using low level tf"
   ]
  },
  {
   "cell_type": "markdown",
   "metadata": {},
   "source": [
    "Lets model any linear function.\n",
    "\n",
    "        y = 2x + 10"
   ]
  },
  {
   "cell_type": "code",
   "execution_count": 9,
   "metadata": {},
   "outputs": [
    {
     "name": "stdout",
     "output_type": "stream",
     "text": [
      "X:[ 1.  2.  3.  4.  5.  6.  7.  8.  9. 10.] , Y: [12. 14. 16. 18. 20. 22. 24. 26. 28. 30.]\n"
     ]
    }
   ],
   "source": [
    "X =  tf.constant(value = [1,2,3,4,5,6,7,8,9,10], dtype = tf.float32)\n",
    "\n",
    "Y = 2*X + 10\n",
    "\n",
    "print(\"X:{} , Y: {}\" .format(X, Y))"
   ]
  },
  {
   "cell_type": "markdown",
   "metadata": {},
   "source": [
    "# Loss function\n",
    "\n",
    "We will use mean squared error. Let us take Y_hat as our output."
   ]
  },
  {
   "cell_type": "code",
   "execution_count": 10,
   "metadata": {},
   "outputs": [],
   "source": [
    "def loss_mse(X, Y, w0, w1):\n",
    "    Y_hat = w0*X + w1\n",
    "    return tf.reduce_mean(input_tensor = (Y_hat - Y)**2)"
   ]
  },
  {
   "cell_type": "markdown",
   "metadata": {},
   "source": [
    "# Gradient Function\n",
    "\n",
    "We will implement a gradient function using differentiation capabilities of tensorflow."
   ]
  },
  {
   "cell_type": "code",
   "execution_count": 12,
   "metadata": {},
   "outputs": [],
   "source": [
    "grad_f = tf.contrib.eager.gradients_function(f = loss_mse, params = [2,3])"
   ]
  },
  {
   "cell_type": "markdown",
   "metadata": {},
   "source": [
    "# Training loop\n",
    "\n",
    "Now that everything is ready, lets try and implement a simple training loop."
   ]
  },
  {
   "cell_type": "code",
   "execution_count": 19,
   "metadata": {},
   "outputs": [
    {
     "name": "stdout",
     "output_type": "stream",
     "text": [
      "STEP:0, MSE:167.6111297607422\n",
      "STEP:100, MSE:3.5321757793426514\n",
      "STEP:200, MSE:0.6537718176841736\n",
      "STEP:300, MSE:0.12100745737552643\n",
      "STEP:400, MSE:0.022397063672542572\n",
      "STEP:500, MSE:0.004145540297031403\n",
      "STEP:600, MSE:0.0007674093940295279\n",
      "STEP:700, MSE:0.00014202017337083817\n",
      "STEP:800, MSE:2.628635775181465e-05\n",
      "STEP:900, MSE:4.86889211970265e-06\n",
      "STEP: 1000, MSE: 9.178326081382693e-07\n",
      "w0:2\n",
      "w1:10\n"
     ]
    }
   ],
   "source": [
    "STEPS = 1000\n",
    "\n",
    "LEARNING_RATE = 0.02\n",
    "\n",
    "#initialise weights using some random or zero values\n",
    "w0 = tf.constant(value = 0.0, dtype = tf.float32)\n",
    "w1 = tf.constant(value = 0.0, dtype = tf.float32)\n",
    "\n",
    "for steps in range(STEPS):\n",
    "    #Calculate gradients\n",
    "    d_w0, d_w1 = grad_f(X, Y, w0, w1)\n",
    "    \n",
    "    #update weights\n",
    "    w0 = w0 - d_w0*LEARNING_RATE\n",
    "    w1 = w1 - d_w1*LEARNING_RATE\n",
    "    \n",
    "    #periodicly print mse\n",
    "    if steps%100 == 0:\n",
    "        print(\"STEP:{}, MSE:{}\".format(steps, loss_mse(X, Y, w0, w1)))\n",
    "\n",
    "              \n",
    "#print finals weights and mse\n",
    "\n",
    "print(\"STEP: {}, MSE: {}\".format(STEPS, loss_mse(X, Y, w0, w1)))\n",
    "print(\"w0:{}\".format(round(float(w0))))\n",
    "print(\"w1:{}\".format(round(float(w1))))\n",
    "              \n",
    "    "
   ]
  },
  {
   "cell_type": "markdown",
   "metadata": {},
   "source": [
    "So, those were some basics for tensorflow using low level functioning."
   ]
  },
  {
   "cell_type": "code",
   "execution_count": null,
   "metadata": {},
   "outputs": [],
   "source": []
  }
 ],
 "metadata": {
  "kernelspec": {
   "display_name": "Python 3",
   "language": "python",
   "name": "python3"
  },
  "language_info": {
   "codemirror_mode": {
    "name": "ipython",
    "version": 3
   },
   "file_extension": ".py",
   "mimetype": "text/x-python",
   "name": "python",
   "nbconvert_exporter": "python",
   "pygments_lexer": "ipython3",
   "version": "3.7.1"
  }
 },
 "nbformat": 4,
 "nbformat_minor": 2
}
